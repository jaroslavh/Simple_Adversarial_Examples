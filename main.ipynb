{
 "cells": [
  {
   "cell_type": "code",
   "execution_count": null,
   "metadata": {},
   "outputs": [],
   "source": [
    "%matplotlib inline\n",
    "import network.network as Network\n",
    "import network.mnist_loader as mnist_loader\n",
    "import pickle\n",
    "import matplotlib.pyplot as plt\n",
    "import numpy as np"
   ]
  },
  {
   "cell_type": "markdown",
   "metadata": {},
   "source": [
    "### Load Input Data"
   ]
  },
  {
   "cell_type": "code",
   "execution_count": null,
   "metadata": {},
   "outputs": [],
   "source": [
    "training_data, validation_data, test_data = mnist_loader.load_data_wrapper()"
   ]
  },
  {
   "cell_type": "code",
   "execution_count": null,
   "metadata": {},
   "outputs": [],
   "source": [
    "test_samples, test_labels = zip(*test_data)"
   ]
  },
  {
   "cell_type": "markdown",
   "metadata": {},
   "source": [
    "### Load Trained Network"
   ]
  },
  {
   "cell_type": "code",
   "execution_count": null,
   "metadata": {},
   "outputs": [],
   "source": [
    "with open('network/trained_network.pkl', 'rb') as f:\n",
    "    u = pickle._Unpickler(f)\n",
    "    u.encoding = 'latin1'\n",
    "    net = u.load()"
   ]
  },
  {
   "cell_type": "code",
   "execution_count": null,
   "metadata": {},
   "outputs": [],
   "source": [
    "def generate_rubbish_sample(network, desired_label, steps, step_size):\n",
    "    \n",
    "    # generate random image\n",
    "    x = np.random.normal(.5, .3, (784, 1))\n",
    "    \n",
    "    # modify image to desired adversarial sample\n",
    "    for i in range(steps):\n",
    "        derivative = net.input_derivative(x, desired_label)\n",
    "        x -= step_size * derivative\n",
    "    \n",
    "    #plt.imshow(x.reshape(28,28), cmap='Greys')\n",
    "    return x\n",
    "    "
   ]
  },
  {
   "cell_type": "code",
   "execution_count": null,
   "metadata": {},
   "outputs": [],
   "source": [
    "def sneaky_adversarial(net, n, x_target, steps, eta, lam=.05):\n",
    "    \"\"\"\n",
    "    net : network object\n",
    "        neural network instance to use\n",
    "    n : integer\n",
    "        our goal label (just an int, the function transforms it into a one-hot vector)\n",
    "    x_target : numpy vector\n",
    "        our goal image for the adversarial example\n",
    "    steps : integer\n",
    "        number of steps for gradient descent\n",
    "    eta : float\n",
    "        step size for gradient descent\n",
    "    lam : float\n",
    "        lambda, our regularization parameter. Default is .05\n",
    "    \"\"\"\n",
    "    \n",
    "    # Set the goal output\n",
    "    goal = np.zeros((10, 1))\n",
    "    goal[n] = 1\n",
    "\n",
    "    # Create a random image to initialize gradient descent with\n",
    "    x = np.random.normal(.5, .3, (784, 1))\n",
    "\n",
    "    # Gradient descent on the input\n",
    "    for i in range(steps):\n",
    "        # Calculate the derivative\n",
    "        d = net.input_derivative(x,goal)\n",
    "        \n",
    "        # The GD update on x, with an added penalty to the cost function\n",
    "        # ONLY CHANGE IS RIGHT HERE!!!\n",
    "        x -= eta * (d + lam * (x - x_target))\n",
    "\n",
    "    return x\n",
    "\n",
    "# Wrapper function\n",
    "def sneaky_generate(net, n, m):\n",
    "    \"\"\"\n",
    "    n: int 0-9, the target number to match\n",
    "    m: label of example image to use (from the test set)\n",
    "    \"\"\"\n",
    "    \n",
    "    # Find random instance of m in test set\n",
    "    idx = np.random.randint(0,8000)\n",
    "    while test_labels[idx] != m:\n",
    "        idx += 1\n",
    "    \n",
    "    # Hardcode the parameters for the wrapper function\n",
    "    a = sneaky_adversarial(net, n, test_samples[idx], 500, 1)\n",
    "    x = np.round(net.feedforward(a), 2)\n",
    "    \n",
    "#     print('\\nWhat we want our adversarial example to look like: ')\n",
    "#     plt.imshow(test_samples[idx].reshape((28,28)), cmap='Greys')\n",
    "#     plt.show()\n",
    "    \n",
    "#     print('\\n')\n",
    "    \n",
    "#     print('Adversarial Example: ')\n",
    "    \n",
    "#     plt.imshow(a.reshape(28,28), cmap='Greys')\n",
    "#     plt.show()\n",
    "    \n",
    "#     print('Network Prediction: ' + str(np.argmax(x)) + '\\n')\n",
    "    \n",
    "#     print('Network Output: \\n' + str(x) + '\\n')\n",
    "    \n",
    "    return a"
   ]
  },
  {
   "cell_type": "code",
   "execution_count": null,
   "metadata": {},
   "outputs": [],
   "source": [
    "def recognize(sample):\n",
    "    prediction = net.feedforward(sample)\n",
    "    if max(prediction) < 0.5:\n",
    "        return None\n",
    "    else:\n",
    "        return np.argmax(prediction)"
   ]
  },
  {
   "cell_type": "code",
   "execution_count": null,
   "metadata": {},
   "outputs": [],
   "source": [
    "def predict(sample):\n",
    "    # Print the prediction of the network\n",
    "    print('Network output: \\n' + str(np.round(net.feedforward(sample), 2)) + '\\n')\n",
    "    print('Network prediction: ' + str(np.argmax(net.feedforward(sample))) + '\\n')\n",
    "    print('Actual image: ')\n",
    "    \n",
    "    # Draw the image\n",
    "    plt.imshow(sample.reshape((28,28)), cmap='Greys')"
   ]
  },
  {
   "cell_type": "code",
   "execution_count": null,
   "metadata": {},
   "outputs": [],
   "source": [
    "advers_correct = 0\n",
    "misclassified = 0\n",
    "\n",
    "for i in range(len(test_samples)):\n",
    "    sample = test_samples[i]\n",
    "    sample_label = test_labels[i]\n",
    "#     adversarial_sample = generate_rubbish_sample(net, sample_label, 1000, 1)\n",
    "    advers_label = sample_label - 1\n",
    "    if advers_label < 0:\n",
    "        advers_label = 5\n",
    "    adversarial_sample = sneaky_generate(net, sample_label, advers_label)\n",
    "    \n",
    "    correct = recognize(sample)\n",
    "    if correct != sample_label:\n",
    "        misclassified += 1\n",
    "        continue\n",
    "        \n",
    "    adversarial = recognize(adversarial_sample)\n",
    "    if (correct == adversarial):\n",
    "        advers_correct += 1\n",
    "\n",
    "# print('Dataset size:', len(test_samples))\n",
    "print('Attacks successful:', advers_correct)\n",
    "print('Misclassified:', misclassified)"
   ]
  },
  {
   "cell_type": "markdown",
   "metadata": {},
   "source": [
    "### Select Detection Modules"
   ]
  },
  {
   "cell_type": "code",
   "execution_count": null,
   "metadata": {},
   "outputs": [],
   "source": [
    "def binary_threshold(sample):\n",
    "    \"\"\"Works for B&W images. Emphasizes the main features by taking all that is > 0.5 as 1 and 0 otherwise.\"\"\"\n",
    "    sample = (sample > 0.5).astype(float)\n",
    "    return sample"
   ]
  },
  {
   "cell_type": "markdown",
   "metadata": {},
   "source": [
    "### Run Experiment"
   ]
  },
  {
   "cell_type": "code",
   "execution_count": null,
   "metadata": {},
   "outputs": [],
   "source": [
    "def detect_adversarial_attacks(detection_method, data):\n",
    "    attacks = 0\n",
    "    misclassifications = 0\n",
    "    \n",
    "    for sample, label in data:\n",
    "        original_sample = sample\n",
    "        modified_sample = binary_threshold(sample)\n",
    "\n",
    "        out_original = net.classify(original_sample)\n",
    "        out_modified = net.classify(modified_sample)\n",
    "        \n",
    "        if out_original != out_modified:\n",
    "            attacks += 1\n",
    "            if out_original != label:\n",
    "                print(\"Attack detected! Misclassification also happened though...\")\n",
    "        if out_original != label:\n",
    "            missclassifications += 1"
   ]
  },
  {
   "cell_type": "code",
   "execution_count": null,
   "metadata": {},
   "outputs": [],
   "source": []
  }
 ],
 "metadata": {
  "kernelspec": {
   "display_name": "Python 3",
   "language": "python",
   "name": "python3"
  },
  "language_info": {
   "codemirror_mode": {
    "name": "ipython",
    "version": 3
   },
   "file_extension": ".py",
   "mimetype": "text/x-python",
   "name": "python",
   "nbconvert_exporter": "python",
   "pygments_lexer": "ipython3",
   "version": "3.7.5"
  }
 },
 "nbformat": 4,
 "nbformat_minor": 4
}
